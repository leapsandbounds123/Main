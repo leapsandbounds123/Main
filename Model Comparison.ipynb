{
 "cells": [
  {
   "cell_type": "markdown",
   "metadata": {},
   "source": [
    "# Models comparison"
   ]
  },
  {
   "cell_type": "code",
   "execution_count": 1,
   "metadata": {},
   "outputs": [
    {
     "name": "stderr",
     "output_type": "stream",
     "text": [
      "Using TensorFlow backend.\n"
     ]
    }
   ],
   "source": [
    "import pandas as pd\n",
    "import numpy as np\n",
    "\n",
    "from sklearn.model_selection import train_test_split\n",
    "from sklearn.metrics import r2_score\n",
    "from sklearn.linear_model import LinearRegression\n",
    "from sklearn.ensemble import RandomForestRegressor\n",
    "\n",
    "import matplotlib.pyplot as plt\n",
    "\n",
    "from keras.layers import Dropout\n",
    "from keras import models\n",
    "from keras import layers\n",
    "from keras.models import Sequential\n",
    "from keras.layers import Dense\n",
    "from keras import losses\n",
    "from keras import backend as K\n",
    "from keras.optimizers import Adam\n",
    "from sklearn.model_selection import GroupKFold\n",
    "from tqdm import tqdm\n",
    "from keras.callbacks import EarlyStopping"
   ]
  },
  {
   "cell_type": "code",
   "execution_count": null,
   "metadata": {},
   "outputs": [],
   "source": [
    "# data1 = pd.read_csv(\"/home/rcf-proj2/mf/lichendu/ReadyforDL_3wYear05_new.csv\")\n",
    "# data2 = pd.read_csv(\"/home/rcf-proj2/mf/lichendu/Ready_3w_method2.csv\")"
   ]
  },
  {
   "cell_type": "code",
   "execution_count": 2,
   "metadata": {},
   "outputs": [],
   "source": [
    "#data1 first method\n",
    "data1 = pd.read_csv(\"//Users//dulichen//PycharmProjects//cisi567//venv//lib//PA_copy//thesis//ReadyforDL_3wYear05_new.csv\")\n",
    "#data2 second method\n",
    "data2 = pd.read_csv(\"//Users//dulichen//PycharmProjects//cisi567//venv//lib//PA_copy//thesis//Ready_3w_method2.csv\")"
   ]
  },
  {
   "cell_type": "markdown",
   "metadata": {},
   "source": [
    "# Split data"
   ]
  },
  {
   "cell_type": "code",
   "execution_count": 12,
   "metadata": {},
   "outputs": [],
   "source": [
    "#Random sampling\n",
    "#method1\n",
    "sample=data1\n",
    "X, y = sample.drop(columns=[\"DUEXTTAU_7\"]).values, sample[\"DUEXTTAU_7\"].values\n",
    "X_train, X_test, y_train, y_test = train_test_split(X, y, test_size=0.25,random_state=2020)"
   ]
  },
  {
   "cell_type": "code",
   "execution_count": 13,
   "metadata": {},
   "outputs": [
    {
     "data": {
      "text/plain": [
       "(8257452,)"
      ]
     },
     "execution_count": 13,
     "metadata": {},
     "output_type": "execute_result"
    }
   ],
   "source": [
    "X_train.shape #(24772356, 17)\n",
    "X_test.shape #(8257452, 17)\n",
    "y_train.shape #(24772356,)\n",
    "y_test.shape #(8257452,)"
   ]
  },
  {
   "cell_type": "code",
   "execution_count": 53,
   "metadata": {},
   "outputs": [
    {
     "data": {
      "text/plain": [
       "array([[0.61591439, 0.83301934, 0.33820006, 0.38028115, 0.        ,\n",
       "        0.        , 1.        , 0.        , 1.        , 0.        ,\n",
       "        0.        , 1.        , 0.        , 0.        , 0.        ,\n",
       "        0.        , 0.        ],\n",
       "       [0.5927625 , 0.03538218, 0.41152122, 0.29123181, 0.        ,\n",
       "        1.        , 0.        , 0.        , 1.        , 0.        ,\n",
       "        0.        , 1.        , 0.        , 0.        , 0.        ,\n",
       "        0.        , 0.        ],\n",
       "       [0.80884222, 0.99546478, 0.34684417, 0.74780515, 0.        ,\n",
       "        0.        , 0.        , 1.        , 0.        , 1.        ,\n",
       "        0.        , 0.        , 0.        , 1.        , 0.        ,\n",
       "        0.        , 0.        ],\n",
       "       [0.93306402, 0.90162268, 0.2539207 , 0.54193748, 0.        ,\n",
       "        0.        , 0.        , 1.        , 1.        , 0.        ,\n",
       "        0.        , 0.        , 0.        , 0.        , 0.        ,\n",
       "        1.        , 0.        ],\n",
       "       [0.04135915, 0.9841099 , 0.38201969, 0.15304364, 1.        ,\n",
       "        0.        , 0.        , 0.        , 1.        , 0.        ,\n",
       "        0.        , 1.        , 0.        , 0.        , 0.        ,\n",
       "        0.        , 0.        ]])"
      ]
     },
     "execution_count": 53,
     "metadata": {},
     "output_type": "execute_result"
    }
   ],
   "source": [
    "X_train[0:5,:]"
   ]
  },
  {
   "cell_type": "code",
   "execution_count": 14,
   "metadata": {},
   "outputs": [
    {
     "data": {
      "text/plain": [
       "<matplotlib.collections.PathCollection at 0x1488657b8>"
      ]
     },
     "execution_count": 14,
     "metadata": {},
     "output_type": "execute_result"
    },
    {
     "data": {
      "image/png": "[encoded data removed]",
      "text/plain": [
       "<Figure size 432x288 with 1 Axes>"
      ]
     },
     "metadata": {
      "needs_background": "light"
     },
     "output_type": "display_data"
    }
   ],
   "source": [
    "plt.scatter(X_train[:,2],y_train)"
   ]
  },
  {
   "cell_type": "code",
   "execution_count": 15,
   "metadata": {},
   "outputs": [
    {
     "data": {
      "text/plain": [
       "<matplotlib.collections.PathCollection at 0x10e2cb1d0>"
      ]
     },
     "execution_count": 15,
     "metadata": {},
     "output_type": "execute_result"
    },
    {
     "data": {
      "image/png": "[encoded data removed]",
      "text/plain": [
       "<Figure size 432x288 with 1 Axes>"
      ]
     },
     "metadata": {
      "needs_background": "light"
     },
     "output_type": "display_data"
    }
   ],
   "source": [
    "plt.scatter(X_test[:,2],y_test)"
   ]
  },
  {
   "cell_type": "code",
   "execution_count": 16,
   "metadata": {},
   "outputs": [],
   "source": [
    "#Random sampling\n",
    "#method1\n",
    "sample2=data2\n",
    "X2, y2 = sample2.drop(columns=[\"DUEXTTAU_7\"]).values, sample2[\"DUEXTTAU_7\"].values\n",
    "X_train2, X_test2, y_train2, y_test2 = train_test_split(X2, y2, test_size=0.25,random_state=2020)"
   ]
  },
  {
   "cell_type": "code",
   "execution_count": 17,
   "metadata": {},
   "outputs": [
    {
     "data": {
      "text/plain": [
       "(8257452,)"
      ]
     },
     "execution_count": 17,
     "metadata": {},
     "output_type": "execute_result"
    }
   ],
   "source": [
    "X_train2.shape #(24772356, 17)\n",
    "X_test2.shape #(8257452, 17)\n",
    "y_train2.shape #(24772356,)\n",
    "y_test2.shape #(8257452,)"
   ]
  },
  {
   "cell_type": "code",
   "execution_count": 55,
   "metadata": {},
   "outputs": [
    {
     "data": {
      "text/plain": [
       "array([[ 0.30920283,  1.08213105, -0.89421062,  0.64842881,  0.        ,\n",
       "         0.        ,  1.        ,  0.        ,  1.        ,  0.        ,\n",
       "         0.        ,  1.        ,  0.        ,  0.        ,  0.        ,\n",
       "         0.        ,  0.        ],\n",
       "       [ 0.22852362, -1.69168819, -0.27398817, -0.03902729,  0.        ,\n",
       "         1.        ,  0.        ,  0.        ,  1.        ,  0.        ,\n",
       "         0.        ,  1.        ,  0.        ,  0.        ,  0.        ,\n",
       "         0.        ,  0.        ],\n",
       "       [ 0.98151368,  1.64704241, -0.82109026,  3.48569423,  0.        ,\n",
       "         0.        ,  0.        ,  1.        ,  0.        ,  1.        ,\n",
       "         0.        ,  0.        ,  0.        ,  1.        ,  0.        ,\n",
       "         0.        ,  0.        ],\n",
       "       [ 1.41439923,  1.32070225, -1.6071283 ,  1.89640695,  0.        ,\n",
       "         0.        ,  0.        ,  1.        ,  1.        ,  0.        ,\n",
       "         0.        ,  0.        ,  0.        ,  0.        ,  0.        ,\n",
       "         1.        ,  0.        ],\n",
       "       [-1.69299524,  1.60755529, -0.52354112, -1.10583255,  1.        ,\n",
       "         0.        ,  0.        ,  0.        ,  1.        ,  0.        ,\n",
       "         0.        ,  1.        ,  0.        ,  0.        ,  0.        ,\n",
       "         0.        ,  0.        ]])"
      ]
     },
     "execution_count": 55,
     "metadata": {},
     "output_type": "execute_result"
    }
   ],
   "source": [
    "X_train2[0:5,:]"
   ]
  },
  {
   "cell_type": "code",
   "execution_count": 6,
   "metadata": {},
   "outputs": [],
   "source": [
    "#Leave one day out\n",
    "def datasplit(data):\n",
    "    #input: df\n",
    "    #output: df\n",
    "    testset=data[data['Thursday']==1]\n",
    "    trainset=data[data['Thursday']==0]\n",
    "    train_data,train_label=trainset.drop(columns=[\"DUEXTTAU_7\"]).values,trainset[\"DUEXTTAU_7\"].values\n",
    "    test_data,test_label=testset.drop(columns=[\"DUEXTTAU_7\"]).values,testset[\"DUEXTTAU_7\"].values\n",
    "    return train_data,train_label,test_data,test_label"
   ]
  },
  {
   "cell_type": "code",
   "execution_count": 7,
   "metadata": {},
   "outputs": [],
   "source": [
    "#method 1\n",
    "train_data,train_label,test_data,test_label=datasplit(data1)"
   ]
  },
  {
   "cell_type": "code",
   "execution_count": 5,
   "metadata": {},
   "outputs": [
    {
     "data": {
      "text/plain": [
       "(4718544,)"
      ]
     },
     "execution_count": 5,
     "metadata": {},
     "output_type": "execute_result"
    }
   ],
   "source": [
    "train_data.shape #(28311264, 17)\n",
    "train_label.shape #(28311264,)\n",
    "test_data.shape #(4718544, 17)\n",
    "test_label.shape #(4718544,)"
   ]
  },
  {
   "cell_type": "code",
   "execution_count": 7,
   "metadata": {},
   "outputs": [
    {
     "data": {
      "text/plain": [
       "array([[0.        , 0.        , 0.70942692, 0.31717216, 1.        ,\n",
       "        0.        , 0.        , 0.        , 1.        , 0.        ,\n",
       "        1.        , 0.        , 0.        , 0.        , 0.        ,\n",
       "        0.        , 0.        ],\n",
       "       [0.        , 0.00148449, 0.70942692, 0.31726794, 1.        ,\n",
       "        0.        , 0.        , 0.        , 1.        , 0.        ,\n",
       "        1.        , 0.        , 0.        , 0.        , 0.        ,\n",
       "        0.        , 0.        ],\n",
       "       [0.        , 0.00296808, 0.70942692, 0.31724112, 1.        ,\n",
       "        0.        , 0.        , 0.        , 1.        , 0.        ,\n",
       "        1.        , 0.        , 0.        , 0.        , 0.        ,\n",
       "        0.        , 0.        ],\n",
       "       [0.        , 0.00445076, 0.70942692, 0.31712619, 1.        ,\n",
       "        0.        , 0.        , 0.        , 1.        , 0.        ,\n",
       "        1.        , 0.        , 0.        , 0.        , 0.        ,\n",
       "        0.        , 0.        ],\n",
       "       [0.        , 0.00593253, 0.70942692, 0.31690788, 1.        ,\n",
       "        0.        , 0.        , 0.        , 1.        , 0.        ,\n",
       "        1.        , 0.        , 0.        , 0.        , 0.        ,\n",
       "        0.        , 0.        ]])"
      ]
     },
     "execution_count": 7,
     "metadata": {},
     "output_type": "execute_result"
    }
   ],
   "source": [
    "train_data[0:5,:]"
   ]
  },
  {
   "cell_type": "code",
   "execution_count": 8,
   "metadata": {},
   "outputs": [],
   "source": [
    "#method 2\n",
    "train_data2,train_label2,test_data2,test_label2=datasplit(data2)"
   ]
  },
  {
   "cell_type": "code",
   "execution_count": 7,
   "metadata": {},
   "outputs": [
    {
     "data": {
      "text/plain": [
       "(4718544,)"
      ]
     },
     "execution_count": 7,
     "metadata": {},
     "output_type": "execute_result"
    }
   ],
   "source": [
    "train_data2.shape #(28311264, 17)\n",
    "train_label2.shape #(28311264,)\n",
    "test_data2.shape #(4718544, 17)\n",
    "test_label2.shape #(4718544,)"
   ]
  },
  {
   "cell_type": "code",
   "execution_count": 10,
   "metadata": {},
   "outputs": [
    {
     "data": {
      "text/plain": [
       "array([[-1.83712274, -1.81473131,  2.24599099,  0.16123081,  1.        ,\n",
       "         0.        ,  0.        ,  0.        ,  1.        ,  0.        ,\n",
       "         1.        ,  0.        ,  0.        ,  0.        ,  0.        ,\n",
       "         0.        ,  0.        ],\n",
       "       [-1.83712274, -1.80956891,  2.24599099,  0.16197021,  1.        ,\n",
       "         0.        ,  0.        ,  0.        ,  1.        ,  0.        ,\n",
       "         1.        ,  0.        ,  0.        ,  0.        ,  0.        ,\n",
       "         0.        ,  0.        ],\n",
       "       [-1.83712274, -1.80440968,  2.24599099,  0.16176317,  1.        ,\n",
       "         0.        ,  0.        ,  0.        ,  1.        ,  0.        ,\n",
       "         1.        ,  0.        ,  0.        ,  0.        ,  0.        ,\n",
       "         0.        ,  0.        ],\n",
       "       [-1.83712274, -1.7992536 ,  2.24599099,  0.16087593,  1.        ,\n",
       "         0.        ,  0.        ,  0.        ,  1.        ,  0.        ,\n",
       "         1.        ,  0.        ,  0.        ,  0.        ,  0.        ,\n",
       "         0.        ,  0.        ],\n",
       "       [-1.83712274, -1.79410067,  2.24599099,  0.15919054,  1.        ,\n",
       "         0.        ,  0.        ,  0.        ,  1.        ,  0.        ,\n",
       "         1.        ,  0.        ,  0.        ,  0.        ,  0.        ,\n",
       "         0.        ,  0.        ]])"
      ]
     },
     "execution_count": 10,
     "metadata": {},
     "output_type": "execute_result"
    }
   ],
   "source": [
    "train_data2[0:5,:]"
   ]
  },
  {
   "cell_type": "markdown",
   "metadata": {},
   "source": [
    "# Linear regression"
   ]
  },
  {
   "cell_type": "code",
   "execution_count": 48,
   "metadata": {},
   "outputs": [],
   "source": [
    "# Linear regression:\n",
    "# RS:method1\n",
    "reg = LinearRegression()\n",
    "\n",
    "reg_rs1 = reg.fit(X_train, y_train)\n",
    "ypred_reg_rs1=reg_rs1.predict(X_test) \n",
    "R2_reg_rs1=r2_score(y_test,ypred_reg_rs1)"
   ]
  },
  {
   "cell_type": "code",
   "execution_count": 49,
   "metadata": {},
   "outputs": [
    {
     "data": {
      "text/plain": [
       "0.4144271869436629"
      ]
     },
     "execution_count": 49,
     "metadata": {},
     "output_type": "execute_result"
    }
   ],
   "source": [
    "R2_reg_rs1"
   ]
  },
  {
   "cell_type": "code",
   "execution_count": 50,
   "metadata": {
    "scrolled": true
   },
   "outputs": [
    {
     "data": {
      "text/plain": [
       "<matplotlib.collections.PathCollection at 0x121a797f0>"
      ]
     },
     "execution_count": 50,
     "metadata": {},
     "output_type": "execute_result"
    },
    {
     "data": {
      "image/png": "[encoded data removed]",
      "text/plain": [
       "<Figure size 432x288 with 1 Axes>"
      ]
     },
     "metadata": {
      "needs_background": "light"
     },
     "output_type": "display_data"
    }
   ],
   "source": [
    "plt.scatter(y_test,ypred_reg_rs1)"
   ]
  },
  {
   "cell_type": "code",
   "execution_count": 58,
   "metadata": {},
   "outputs": [],
   "source": [
    "# Linear regression:\n",
    "# RS:method2\n",
    "reg = LinearRegression()\n",
    "\n",
    "reg_rs2 = reg.fit(X_train2, y_train2)\n",
    "ypred_reg_rs2=reg_rs2.predict(X_test2) \n",
    "R2_reg_rs2=r2_score(y_test2,ypred_reg_rs2)"
   ]
  },
  {
   "cell_type": "code",
   "execution_count": 59,
   "metadata": {},
   "outputs": [
    {
     "data": {
      "text/plain": [
       "0.4144272018450915"
      ]
     },
     "execution_count": 59,
     "metadata": {},
     "output_type": "execute_result"
    }
   ],
   "source": [
    "R2_reg_rs2"
   ]
  },
  {
   "cell_type": "code",
   "execution_count": 60,
   "metadata": {},
   "outputs": [
    {
     "data": {
      "text/plain": [
       "<matplotlib.collections.PathCollection at 0x12258fa20>"
      ]
     },
     "execution_count": 60,
     "metadata": {},
     "output_type": "execute_result"
    },
    {
     "data": {
      "image/png": "[encoded data removed]",
      "text/plain": [
       "<Figure size 432x288 with 1 Axes>"
      ]
     },
     "metadata": {
      "needs_background": "light"
     },
     "output_type": "display_data"
    }
   ],
   "source": [
    "plt.scatter(y_test2,ypred_reg_rs2)"
   ]
  },
  {
   "cell_type": "code",
   "execution_count": 15,
   "metadata": {},
   "outputs": [],
   "source": [
    "# Linear regression:\n",
    "# Leave one day out: method1\n",
    "\n",
    "reg_loo1 = reg.fit(train_data, train_label)\n",
    "ypred_reg_loo1=reg_loo1.predict(test_data) \n",
    "R2_reg_loo1=r2_score(test_label,ypred_reg_loo1)"
   ]
  },
  {
   "cell_type": "code",
   "execution_count": 16,
   "metadata": {},
   "outputs": [
    {
     "data": {
      "text/plain": [
       "-4.601246435053931e+19"
      ]
     },
     "execution_count": 16,
     "metadata": {},
     "output_type": "execute_result"
    }
   ],
   "source": [
    "R2_reg_loo1"
   ]
  },
  {
   "cell_type": "code",
   "execution_count": 23,
   "metadata": {},
   "outputs": [
    {
     "data": {
      "text/plain": [
       "<matplotlib.collections.PathCollection at 0x125130780>"
      ]
     },
     "execution_count": 23,
     "metadata": {},
     "output_type": "execute_result"
    },
    {
     "data": {
      "image/png": "[encoded data removed]",
      "text/plain": [
       "<Figure size 432x288 with 1 Axes>"
      ]
     },
     "metadata": {
      "needs_background": "light"
     },
     "output_type": "display_data"
    }
   ],
   "source": [
    "plt.scatter(test_label,ypred_reg_loo1)"
   ]
  },
  {
   "cell_type": "code",
   "execution_count": 18,
   "metadata": {},
   "outputs": [],
   "source": [
    "reg = LinearRegression()\n",
    "reg_loo1 = reg.fit(train_data, train_label)\n",
    "trainpred_reg_loo1=reg_loo1.predict(train_data)"
   ]
  },
  {
   "cell_type": "code",
   "execution_count": 19,
   "metadata": {},
   "outputs": [
    {
     "data": {
      "text/plain": [
       "0.4017107647175754"
      ]
     },
     "execution_count": 19,
     "metadata": {},
     "output_type": "execute_result"
    }
   ],
   "source": [
    "R2_reg_train1=r2_score(train_label,trainpred_reg_loo1)\n",
    "R2_reg_train1"
   ]
  },
  {
   "cell_type": "code",
   "execution_count": 1,
   "metadata": {},
   "outputs": [
    {
     "ename": "NameError",
     "evalue": "name 'plt' is not defined",
     "output_type": "error",
     "traceback": [
      "\u001b[0;31m---------------------------------------------------------------------------\u001b[0m",
      "\u001b[0;31mNameError\u001b[0m                                 Traceback (most recent call last)",
      "\u001b[0;32m<ipython-input-1-0377a484da13>\u001b[0m in \u001b[0;36m<module>\u001b[0;34m\u001b[0m\n\u001b[0;32m----> 1\u001b[0;31m \u001b[0mplt\u001b[0m\u001b[0;34m.\u001b[0m\u001b[0mscatter\u001b[0m\u001b[0;34m(\u001b[0m\u001b[0mtrain_label\u001b[0m\u001b[0;34m,\u001b[0m\u001b[0mR2_reg_train1\u001b[0m\u001b[0;34m)\u001b[0m\u001b[0;34m\u001b[0m\u001b[0;34m\u001b[0m\u001b[0m\n\u001b[0m",
      "\u001b[0;31mNameError\u001b[0m: name 'plt' is not defined"
     ]
    }
   ],
   "source": [
    "plt.scatter(train_label,R2_reg_train1)"
   ]
  },
  {
   "cell_type": "code",
   "execution_count": 19,
   "metadata": {},
   "outputs": [],
   "source": [
    "# Linear regression:\n",
    "# Leave one day out: method2\n",
    "\n",
    "reg_loo2 = reg.fit(train_data2, train_label2)\n",
    "ypred_reg_loo2=reg_loo2.predict(test_data2) \n",
    "R2_reg_loo2=r2_score(test_label,ypred_reg_loo2)"
   ]
  },
  {
   "cell_type": "code",
   "execution_count": 20,
   "metadata": {},
   "outputs": [
    {
     "data": {
      "text/plain": [
       "-1.8129962079170051e+25"
      ]
     },
     "execution_count": 20,
     "metadata": {},
     "output_type": "execute_result"
    }
   ],
   "source": [
    "R2_reg_loo2"
   ]
  },
  {
   "cell_type": "code",
   "execution_count": 24,
   "metadata": {},
   "outputs": [
    {
     "data": {
      "text/plain": [
       "<matplotlib.collections.PathCollection at 0x12505bf60>"
      ]
     },
     "execution_count": 24,
     "metadata": {},
     "output_type": "execute_result"
    },
    {
     "data": {
      "image/png": "[encoded data removed]",
      "text/plain": [
       "<Figure size 432x288 with 1 Axes>"
      ]
     },
     "metadata": {
      "needs_background": "light"
     },
     "output_type": "display_data"
    }
   ],
   "source": [
    "plt.scatter(test_label,ypred_reg_loo2)"
   ]
  },
  {
   "cell_type": "markdown",
   "metadata": {},
   "source": [
    "# Random Forest"
   ]
  },
  {
   "cell_type": "code",
   "execution_count": 89,
   "metadata": {},
   "outputs": [
    {
     "name": "stderr",
     "output_type": "stream",
     "text": [
      "/Users/dulichen/anaconda3/lib/python3.7/site-packages/sklearn/ensemble/forest.py:245: FutureWarning: The default value of n_estimators will change from 10 in version 0.20 to 100 in 0.22.\n",
      "  \"10 in version 0.20 to 100 in 0.22.\", FutureWarning)\n"
     ]
    }
   ],
   "source": [
    "#random forest\n",
    "#RS：method1\n",
    "rf = RandomForestRegressor()\n",
    "\n",
    "rf_rs1 = rf.fit(X_train, y_train)\n",
    "ypred_rf_rs1=rf_rs1.predict(X_test)  \n",
    "R2_rf_rs1=r2_score(y_test,ypred_rf_rs1)"
   ]
  },
  {
   "cell_type": "code",
   "execution_count": 90,
   "metadata": {},
   "outputs": [
    {
     "data": {
      "text/plain": [
       "0.998955560348711"
      ]
     },
     "execution_count": 90,
     "metadata": {},
     "output_type": "execute_result"
    }
   ],
   "source": [
    "R2_rf_rs1"
   ]
  },
  {
   "cell_type": "code",
   "execution_count": 100,
   "metadata": {},
   "outputs": [
    {
     "data": {
      "text/plain": [
       "<matplotlib.collections.PathCollection at 0x1ef326b38>"
      ]
     },
     "execution_count": 100,
     "metadata": {},
     "output_type": "execute_result"
    },
    {
     "data": {
      "image/png": "[encoded data removed]",
      "text/plain": [
       "<Figure size 432x288 with 1 Axes>"
      ]
     },
     "metadata": {
      "needs_background": "light"
     },
     "output_type": "display_data"
    }
   ],
   "source": [
    "plt.scatter(y_test,ypred_rf_rs1)"
   ]
  },
  {
   "cell_type": "code",
   "execution_count": 96,
   "metadata": {},
   "outputs": [
    {
     "name": "stderr",
     "output_type": "stream",
     "text": [
      "/Users/dulichen/anaconda3/lib/python3.7/site-packages/sklearn/ensemble/forest.py:245: FutureWarning: The default value of n_estimators will change from 10 in version 0.20 to 100 in 0.22.\n",
      "  \"10 in version 0.20 to 100 in 0.22.\", FutureWarning)\n"
     ]
    }
   ],
   "source": [
    "#random forest\n",
    "#RS：method2\n",
    "rf = RandomForestRegressor()\n",
    "\n",
    "rf_rs2 = rf.fit(X_train2, y_train2)\n",
    "ypred_rf_rs2=rf_rs2.predict(X_test2)  \n",
    "R2_rf_rs2=r2_score(y_test2,ypred_rf_rs2)"
   ]
  },
  {
   "cell_type": "code",
   "execution_count": 97,
   "metadata": {},
   "outputs": [
    {
     "data": {
      "text/plain": [
       "0.9989447336957917"
      ]
     },
     "execution_count": 97,
     "metadata": {},
     "output_type": "execute_result"
    }
   ],
   "source": [
    "R2_rf_rs2"
   ]
  },
  {
   "cell_type": "code",
   "execution_count": 98,
   "metadata": {},
   "outputs": [
    {
     "data": {
      "text/plain": [
       "<matplotlib.collections.PathCollection at 0x1ecbdc550>"
      ]
     },
     "execution_count": 98,
     "metadata": {},
     "output_type": "execute_result"
    },
    {
     "data": {
      "image/png": "[encoded data removed]",
      "text/plain": [
       "<Figure size 432x288 with 1 Axes>"
      ]
     },
     "metadata": {
      "needs_background": "light"
     },
     "output_type": "display_data"
    }
   ],
   "source": [
    "plt.scatter(y_test2,ypred_rf_rs2)"
   ]
  },
  {
   "cell_type": "code",
   "execution_count": 8,
   "metadata": {},
   "outputs": [
    {
     "name": "stderr",
     "output_type": "stream",
     "text": [
      "/Users/dulichen/anaconda3/lib/python3.7/site-packages/sklearn/ensemble/forest.py:245: FutureWarning: The default value of n_estimators will change from 10 in version 0.20 to 100 in 0.22.\n",
      "  \"10 in version 0.20 to 100 in 0.22.\", FutureWarning)\n"
     ]
    }
   ],
   "source": [
    "#random forest\n",
    "# Leave one day out: method1\n",
    "rf = RandomForestRegressor()\n",
    "\n",
    "rf_loo1 = rf.fit(train_data, train_label)\n",
    "ypred_rf_loo1=rf_loo1.predict(test_data) \n",
    "R2_rf_loo1=r2_score(test_label,ypred_rf_loo1)"
   ]
  },
  {
   "cell_type": "code",
   "execution_count": 9,
   "metadata": {},
   "outputs": [
    {
     "data": {
      "text/plain": [
       "0.5914031548398813"
      ]
     },
     "execution_count": 9,
     "metadata": {},
     "output_type": "execute_result"
    }
   ],
   "source": [
    "R2_rf_loo1"
   ]
  },
  {
   "cell_type": "code",
   "execution_count": 10,
   "metadata": {},
   "outputs": [
    {
     "data": {
      "text/plain": [
       "<matplotlib.collections.PathCollection at 0x227cdeb38>"
      ]
     },
     "execution_count": 10,
     "metadata": {},
     "output_type": "execute_result"
    },
    {
     "data": {
      "image/png": "[encoded data removed]",
      "text/plain": [
       "<Figure size 432x288 with 1 Axes>"
      ]
     },
     "metadata": {
      "needs_background": "light"
     },
     "output_type": "display_data"
    }
   ],
   "source": [
    "plt.scatter(test_label,ypred_rf_loo1)"
   ]
  },
  {
   "cell_type": "code",
   "execution_count": 9,
   "metadata": {},
   "outputs": [
    {
     "name": "stderr",
     "output_type": "stream",
     "text": [
      "/Users/dulichen/anaconda3/lib/python3.7/site-packages/sklearn/ensemble/forest.py:245: FutureWarning: The default value of n_estimators will change from 10 in version 0.20 to 100 in 0.22.\n",
      "  \"10 in version 0.20 to 100 in 0.22.\", FutureWarning)\n"
     ]
    }
   ],
   "source": [
    "#random forest\n",
    "# Leave one day out: method2\n",
    "rf = RandomForestRegressor()\n",
    "rf_loo2 = rf.fit(train_data2, train_label2)\n",
    "ypred_rf_loo2=rf_loo2.predict(test_data2) \n",
    "R2_rf_loo2=r2_score(test_label2,ypred_rf_loo2)"
   ]
  },
  {
   "cell_type": "code",
   "execution_count": 10,
   "metadata": {},
   "outputs": [
    {
     "data": {
      "text/plain": [
       "0.5943114559027396"
      ]
     },
     "execution_count": 10,
     "metadata": {},
     "output_type": "execute_result"
    }
   ],
   "source": [
    "R2_rf_loo2"
   ]
  },
  {
   "cell_type": "code",
   "execution_count": 11,
   "metadata": {},
   "outputs": [
    {
     "data": {
      "text/plain": [
       "<matplotlib.collections.PathCollection at 0x11eac52e8>"
      ]
     },
     "execution_count": 11,
     "metadata": {},
     "output_type": "execute_result"
    },
    {
     "data": {
      "image/png": "[encoded data removed]",
      "text/plain": [
       "<Figure size 432x288 with 1 Axes>"
      ]
     },
     "metadata": {
      "needs_background": "light"
     },
     "output_type": "display_data"
    }
   ],
   "source": [
    "plt.scatter(test_label2,ypred_rf_loo2)"
   ]
  },
  {
   "cell_type": "markdown",
   "metadata": {},
   "source": [
    "# Neural Network"
   ]
  },
  {
   "cell_type": "code",
   "execution_count": 65,
   "metadata": {},
   "outputs": [],
   "source": [
    "def build_model(tr_x):    \n",
    "    model = Sequential()\n",
    "    #first layer with sample data input\n",
    "    model.add(Dense(units=64, input_shape=(tr_x.shape[1],)))\n",
    "    model.add(Dropout(0.2))\n",
    "    #second layer\n",
    "    model.add(Dense(units=32, activation='relu'))\n",
    "    model.add(Dropout(0.2))\n",
    "    #third layer\n",
    "    model.add(layers.Dense(16, activation='relu'))\n",
    "    model.add(Dropout(0.2))\n",
    "    #forth layer\n",
    "    model.add(layers.Dense(8, activation='relu'))\n",
    "    #fifth layer\n",
    "    model.add(layers.Dense(4, activation='relu'))\n",
    "    #final layer and output the result\n",
    "    model.add(Dense(units=1))\n",
    "    #set the model loss function\n",
    "    model.compile(optimizer= 'adam', loss=\"mse\", metrics=['mae'])    \n",
    "    return model\n",
    "\n",
    "\n",
    "\n",
    "def train_whole(train_data, test_data, train_label, test_label):   \n",
    "    model = build_model(train_data)\n",
    "    \n",
    "    rlst = EarlyStopping(monitor = 'val_loss', min_delta = .0001,\n",
    "                         patience = 5, verbose = True, mode = 'min')    \n",
    "    mod = model.fit(train_data, train_label , validation_data=(test_data, test_label), batch_size = 256, epochs=30,\n",
    "                    callbacks = [rlst], verbose=1) \n",
    "    \n",
    "    y_pred=model.predict(test_data)\n",
    "    y_pred=y_pred.reshape([y_pred.shape[0],])\n",
    "                          \n",
    "    R2=r2_score(test_label,y_pred)\n",
    "    test_mse_score, test_mae_score = model.evaluate(test_data, test_label)\n",
    "    \n",
    "    print(\"test_R2 is : \"+str(R2))\n",
    "    print(\"test_mse_score is : \"+str(test_mse_score))\n",
    "    print(\"test_rmse_score is : \"+str(np.sqrt(test_mse_score)))\n",
    "    print(\"test_mae_score is : \"+str(test_mae_score))\n",
    "    \n",
    "    return (R2,test_mse_score, test_mae_score,y_pred)"
   ]
  },
  {
   "cell_type": "code",
   "execution_count": 82,
   "metadata": {},
   "outputs": [
    {
     "name": "stdout",
     "output_type": "stream",
     "text": [
      "Train on 24772356 samples, validate on 8257452 samples\n",
      "Epoch 1/30\n",
      "24772356/24772356 [==============================] - 157s 6us/step - loss: 0.0082 - mae: 0.0700 - val_loss: 0.0076 - val_mae: 0.0680\n",
      "Epoch 2/30\n",
      "24772356/24772356 [==============================] - 145s 6us/step - loss: 0.0078 - mae: 0.0682 - val_loss: 0.0073 - val_mae: 0.0662\n",
      "Epoch 3/30\n",
      "24772356/24772356 [==============================] - 143s 6us/step - loss: 0.0078 - mae: 0.0679 - val_loss: 0.0070 - val_mae: 0.0647\n",
      "Epoch 4/30\n",
      "24772356/24772356 [==============================] - 143s 6us/step - loss: 0.0077 - mae: 0.0678 - val_loss: 0.0071 - val_mae: 0.0654\n",
      "Epoch 5/30\n",
      "24772356/24772356 [==============================] - 2249s 91us/step - loss: 0.0077 - mae: 0.0677 - val_loss: 0.0073 - val_mae: 0.0664\n",
      "Epoch 6/30\n",
      "24772356/24772356 [==============================] - 1629s 66us/step - loss: 0.0077 - mae: 0.0677 - val_loss: 0.0075 - val_mae: 0.0678\n",
      "Epoch 7/30\n",
      "24772356/24772356 [==============================] - 143s 6us/step - loss: 0.0077 - mae: 0.0676 - val_loss: 0.0070 - val_mae: 0.0649\n",
      "Epoch 8/30\n",
      "24772356/24772356 [==============================] - 143s 6us/step - loss: 0.0077 - mae: 0.0676 - val_loss: 0.0070 - val_mae: 0.0646\n",
      "Epoch 00008: early stopping\n",
      "8257452/8257452 [==============================] - 72s 9us/step\n",
      "test_R2 is : 0.6703859939742833\n",
      "test_mse_score is : 0.006954529824331183\n",
      "test_rmse_score is : 0.08339382365817737\n",
      "test_mae_score is : 0.06455612182617188\n"
     ]
    }
   ],
   "source": [
    "#RS: method1\n",
    "A=train_whole(X_train, X_test, y_train, y_test)"
   ]
  },
  {
   "cell_type": "code",
   "execution_count": 83,
   "metadata": {},
   "outputs": [],
   "source": [
    "r2_nn_rs1=A[0] #0.6494140773649943\n",
    "ypred_nn_rs1=A[3]"
   ]
  },
  {
   "cell_type": "code",
   "execution_count": 84,
   "metadata": {},
   "outputs": [
    {
     "data": {
      "text/plain": [
       "0.6703859939742833"
      ]
     },
     "execution_count": 84,
     "metadata": {},
     "output_type": "execute_result"
    }
   ],
   "source": [
    "r2_nn_rs1"
   ]
  },
  {
   "cell_type": "code",
   "execution_count": 87,
   "metadata": {},
   "outputs": [
    {
     "data": {
      "text/plain": [
       "<matplotlib.collections.PathCollection at 0x1d8bcd4e0>"
      ]
     },
     "execution_count": 87,
     "metadata": {},
     "output_type": "execute_result"
    },
    {
     "data": {
      "image/png": "[encoded data removed]",
      "text/plain": [
       "<Figure size 432x288 with 1 Axes>"
      ]
     },
     "metadata": {
      "needs_background": "light"
     },
     "output_type": "display_data"
    }
   ],
   "source": [
    "plt.scatter(y_test,ypred_nn_rs1)"
   ]
  },
  {
   "cell_type": "code",
   "execution_count": 79,
   "metadata": {},
   "outputs": [
    {
     "name": "stdout",
     "output_type": "stream",
     "text": [
      "Train on 24772356 samples, validate on 8257452 samples\n",
      "Epoch 1/30\n",
      "24772356/24772356 [==============================] - 160s 6us/step - loss: 0.3709 - mae: 0.4696 - val_loss: 0.3429 - val_mae: 0.4565\n",
      "Epoch 2/30\n",
      "24772356/24772356 [==============================] - 148s 6us/step - loss: 0.3591 - mae: 0.4613 - val_loss: 0.3419 - val_mae: 0.4538\n",
      "Epoch 3/30\n",
      "24772356/24772356 [==============================] - 150s 6us/step - loss: 0.3567 - mae: 0.4596 - val_loss: 0.3421 - val_mae: 0.4547\n",
      "Epoch 4/30\n",
      "24772356/24772356 [==============================] - 147s 6us/step - loss: 0.3558 - mae: 0.4589 - val_loss: 0.3430 - val_mae: 0.4557\n",
      "Epoch 5/30\n",
      "24772356/24772356 [==============================] - 147s 6us/step - loss: 0.3552 - mae: 0.4586 - val_loss: 0.3297 - val_mae: 0.4455\n",
      "Epoch 6/30\n",
      "24772356/24772356 [==============================] - 148s 6us/step - loss: 0.3548 - mae: 0.4583 - val_loss: 0.3358 - val_mae: 0.4494\n",
      "Epoch 7/30\n",
      "24772356/24772356 [==============================] - 151s 6us/step - loss: 0.3545 - mae: 0.4580 - val_loss: 0.3326 - val_mae: 0.4479\n",
      "Epoch 8/30\n",
      "24772356/24772356 [==============================] - 146s 6us/step - loss: 0.3541 - mae: 0.4578 - val_loss: 0.3449 - val_mae: 0.4574\n",
      "Epoch 9/30\n",
      "24772356/24772356 [==============================] - 145s 6us/step - loss: 0.3540 - mae: 0.4577 - val_loss: 0.3331 - val_mae: 0.4476\n",
      "Epoch 10/30\n",
      "24772356/24772356 [==============================] - 144s 6us/step - loss: 0.3538 - mae: 0.4577 - val_loss: 0.3377 - val_mae: 0.4521\n",
      "Epoch 00010: early stopping\n",
      "8257452/8257452 [==============================] - 72s 9us/step\n",
      "test_R2 is : 0.6622417268840968\n",
      "test_mse_score is : 0.33767225360555014\n",
      "test_rmse_score is : 0.5810957353186738\n",
      "test_mae_score is : 0.45214396715164185\n"
     ]
    }
   ],
   "source": [
    "#RS: method2\n",
    "B=train_whole(X_train2, X_test2, y_train2, y_test2)"
   ]
  },
  {
   "cell_type": "code",
   "execution_count": 80,
   "metadata": {},
   "outputs": [],
   "source": [
    "r2_nn_rs2=B[0]\n",
    "ypred_nn_rs2=B[3]"
   ]
  },
  {
   "cell_type": "code",
   "execution_count": 88,
   "metadata": {},
   "outputs": [
    {
     "data": {
      "text/plain": [
       "0.6622417268840968"
      ]
     },
     "execution_count": 88,
     "metadata": {},
     "output_type": "execute_result"
    }
   ],
   "source": [
    "r2_nn_rs2"
   ]
  },
  {
   "cell_type": "code",
   "execution_count": 81,
   "metadata": {},
   "outputs": [
    {
     "data": {
      "text/plain": [
       "<matplotlib.collections.PathCollection at 0x1f1c89f28>"
      ]
     },
     "execution_count": 81,
     "metadata": {},
     "output_type": "execute_result"
    },
    {
     "data": {
      "image/png": "[encoded data removed]",
      "text/plain": [
       "<Figure size 432x288 with 1 Axes>"
      ]
     },
     "metadata": {
      "needs_background": "light"
     },
     "output_type": "display_data"
    }
   ],
   "source": [
    "plt.scatter(y_test2,ypred_nn_rs2)"
   ]
  },
  {
   "cell_type": "code",
   "execution_count": 74,
   "metadata": {},
   "outputs": [
    {
     "name": "stdout",
     "output_type": "stream",
     "text": [
      "Train on 28311264 samples, validate on 4718544 samples\n",
      "Epoch 1/30\n",
      "28311264/28311264 [==============================] - 167s 6us/step - loss: 0.0083 - mae: 0.0699 - val_loss: 0.0107 - val_mae: 0.0811\n",
      "Epoch 2/30\n",
      "28311264/28311264 [==============================] - 176s 6us/step - loss: 0.0078 - mae: 0.0679 - val_loss: 0.0102 - val_mae: 0.0785\n",
      "Epoch 3/30\n",
      "28311264/28311264 [==============================] - 160s 6us/step - loss: 0.0077 - mae: 0.0676 - val_loss: 0.0098 - val_mae: 0.0768\n",
      "Epoch 4/30\n",
      "28311264/28311264 [==============================] - 157s 6us/step - loss: 0.0077 - mae: 0.0675 - val_loss: 0.0100 - val_mae: 0.0769\n",
      "Epoch 5/30\n",
      "28311264/28311264 [==============================] - 165s 6us/step - loss: 0.0077 - mae: 0.0674 - val_loss: 0.0104 - val_mae: 0.0784\n",
      "Epoch 6/30\n",
      "28311264/28311264 [==============================] - 168s 6us/step - loss: 0.0076 - mae: 0.0673 - val_loss: 0.0105 - val_mae: 0.0786\n",
      "Epoch 7/30\n",
      "28311264/28311264 [==============================] - 162s 6us/step - loss: 0.0076 - mae: 0.0673 - val_loss: 0.0118 - val_mae: 0.0830\n",
      "Epoch 8/30\n",
      "28311264/28311264 [==============================] - 163s 6us/step - loss: 0.0076 - mae: 0.0672 - val_loss: 0.0119 - val_mae: 0.0835\n",
      "Epoch 00008: early stopping\n",
      "4718544/4718544 [==============================] - 38s 8us/step\n",
      "test_R2 is : 0.3998783378706854\n",
      "test_mse_score is : 0.01193929063728789\n",
      "test_rmse_score is : 0.10926706108104076\n",
      "test_mae_score is : 0.08346725255250931\n"
     ]
    }
   ],
   "source": [
    "#LOO :method1\n",
    "C=train_whole(train_data, test_data, train_label, test_label)"
   ]
  },
  {
   "cell_type": "code",
   "execution_count": 75,
   "metadata": {},
   "outputs": [],
   "source": [
    "r2_nn_loo1=C[0]\n",
    "ypred_nn_loo1=C[3]"
   ]
  },
  {
   "cell_type": "code",
   "execution_count": 76,
   "metadata": {},
   "outputs": [
    {
     "data": {
      "text/plain": [
       "0.3998783378706854"
      ]
     },
     "execution_count": 76,
     "metadata": {},
     "output_type": "execute_result"
    }
   ],
   "source": [
    "r2_nn_loo1"
   ]
  },
  {
   "cell_type": "code",
   "execution_count": 77,
   "metadata": {},
   "outputs": [
    {
     "data": {
      "text/plain": [
       "array([0.4743681 , 0.4743681 , 0.4743681 , ..., 0.32673362, 0.32627702,\n",
       "       0.3260374 ], dtype=float32)"
      ]
     },
     "execution_count": 77,
     "metadata": {},
     "output_type": "execute_result"
    }
   ],
   "source": [
    "ypred_nn_loo1"
   ]
  },
  {
   "cell_type": "code",
   "execution_count": 78,
   "metadata": {},
   "outputs": [
    {
     "data": {
      "text/plain": [
       "<matplotlib.collections.PathCollection at 0x1a98482e8>"
      ]
     },
     "execution_count": 78,
     "metadata": {},
     "output_type": "execute_result"
    },
    {
     "data": {
      "image/png": "[encoded data removed]",
      "text/plain": [
       "<Figure size 432x288 with 1 Axes>"
      ]
     },
     "metadata": {
      "needs_background": "light"
     },
     "output_type": "display_data"
    }
   ],
   "source": [
    "plt.scatter(test_label,ypred_nn_loo1)"
   ]
  },
  {
   "cell_type": "code",
   "execution_count": 69,
   "metadata": {},
   "outputs": [
    {
     "name": "stdout",
     "output_type": "stream",
     "text": [
      "Train on 28311264 samples, validate on 4718544 samples\n",
      "Epoch 1/30\n",
      "28311264/28311264 [==============================] - 178s 6us/step - loss: 0.3768 - mae: 0.4730 - val_loss: 0.3593 - val_mae: 0.4678\n",
      "Epoch 2/30\n",
      "28311264/28311264 [==============================] - 160s 6us/step - loss: 0.3634 - mae: 0.4638 - val_loss: 0.3697 - val_mae: 0.4756\n",
      "Epoch 3/30\n",
      "28311264/28311264 [==============================] - 163s 6us/step - loss: 0.3608 - mae: 0.4620 - val_loss: 0.3739 - val_mae: 0.4808\n",
      "Epoch 4/30\n",
      "28311264/28311264 [==============================] - 164s 6us/step - loss: 0.3596 - mae: 0.4611 - val_loss: 0.3755 - val_mae: 0.4779\n",
      "Epoch 5/30\n",
      "28311264/28311264 [==============================] - 174s 6us/step - loss: 0.3587 - mae: 0.4603 - val_loss: 0.3793 - val_mae: 0.4804\n",
      "Epoch 6/30\n",
      "28311264/28311264 [==============================] - 169s 6us/step - loss: 0.3581 - mae: 0.4599 - val_loss: 0.3820 - val_mae: 0.4805\n",
      "Epoch 00006: early stopping\n",
      "4718544/4718544 [==============================] - 39s 8us/step\n",
      "test_R2 is : 0.5947592403965638\n",
      "test_mse_score is : 0.3820142878967469\n",
      "test_rmse_score is : 0.6180730441434467\n",
      "test_mae_score is : 0.48055312037467957\n"
     ]
    }
   ],
   "source": [
    "#LOO :method2\n",
    "D=train_whole(train_data2, test_data2, train_label2, test_label2)"
   ]
  },
  {
   "cell_type": "code",
   "execution_count": 70,
   "metadata": {},
   "outputs": [],
   "source": [
    "r2_nn_loo2=D[0]\n",
    "ypred_nn_loo2=D[3]"
   ]
  },
  {
   "cell_type": "code",
   "execution_count": 71,
   "metadata": {},
   "outputs": [
    {
     "data": {
      "text/plain": [
       "0.5947592403965638"
      ]
     },
     "execution_count": 71,
     "metadata": {},
     "output_type": "execute_result"
    }
   ],
   "source": [
    "r2_nn_loo2"
   ]
  },
  {
   "cell_type": "code",
   "execution_count": 72,
   "metadata": {},
   "outputs": [
    {
     "data": {
      "text/plain": [
       "array([ 0.6937163 ,  0.693714  ,  0.6937088 , ..., -0.5774126 ,\n",
       "       -0.57925296, -0.58276343], dtype=float32)"
      ]
     },
     "execution_count": 72,
     "metadata": {},
     "output_type": "execute_result"
    }
   ],
   "source": [
    "ypred_nn_loo2"
   ]
  },
  {
   "cell_type": "code",
   "execution_count": 73,
   "metadata": {},
   "outputs": [
    {
     "data": {
      "text/plain": [
       "<matplotlib.collections.PathCollection at 0x1fd8977f0>"
      ]
     },
     "execution_count": 73,
     "metadata": {},
     "output_type": "execute_result"
    },
    {
     "data": {
      "image/png": "[encoded data removed]",
      "text/plain": [
       "<Figure size 432x288 with 1 Axes>"
      ]
     },
     "metadata": {
      "needs_background": "light"
     },
     "output_type": "display_data"
    }
   ],
   "source": [
    "plt.scatter(test_label2,ypred_nn_loo2)"
   ]
  }
 ],
 "metadata": {
  "kernelspec": {
   "display_name": "Python 3",
   "language": "python",
   "name": "python3"
  },
  "language_info": {
   "codemirror_mode": {
    "name": "ipython",
    "version": 3
   },
   "file_extension": ".py",
   "mimetype": "text/x-python",
   "name": "python",
   "nbconvert_exporter": "python",
   "pygments_lexer": "ipython3",
   "version": "3.7.4"
  }
 },
 "nbformat": 4,
 "nbformat_minor": 2
}
